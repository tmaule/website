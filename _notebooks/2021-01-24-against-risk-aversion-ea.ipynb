{
 "metadata": {
  "language_info": {
   "codemirror_mode": {
    "name": "ipython",
    "version": 3
   },
   "file_extension": ".py",
   "mimetype": "text/x-python",
   "name": "python",
   "nbconvert_exporter": "python",
   "pygments_lexer": "ipython3",
   "version": 3
  },
  "orig_nbformat": 2
 },
 "nbformat": 4,
 "nbformat_minor": 2,
 "cells": [
  {
   "source": [
    "# The Case Against Risk Aversion in Effective Altruism\n",
    "\n",
    "- toc: false\n",
    "- badges: true\n",
    "- comments: true\n",
    "- categories: [charity, effective altruism]\n",
    "- image: "
   ],
   "cell_type": "markdown",
   "metadata": {}
  },
  {
   "source": [
    "I don't have anything especially enlightening or quantitative to say here, so I'll just start with my unorganized thoughts and maybe add on later if I come up with a better case:\n",
    "\n",
    "I have by no means read everything out there, but what I have seen on this topic has loosely taken on the following forms:\n",
    "\n",
    "1. \"[GiveWell](https://www.givewell.org/) is great not only because they do the work for you, and their analysis is trustworthy, but also because they are so rigorous that there's almost no chance of your money being wasted. You can rest easy knowing with reasonable certainty the ballpark impact that *your money* had on the world.\"\n",
    "\n",
    "2. \"You can think about giving the way you think about investing. Diversification is important. The balance of sure things like [Against Malaria](https://www.againstmalaria.com/) and riskier interventions such as [Deworm the World](https://www.evidenceaction.org/#deworm-the-world) in your 'giving portfolio' should reflect your personal risk tolerance as a donor.\"\n",
    "\n",
    "As someone with a quantitative finance background, I would normally expect to be all-in on this line of thinking. However, while I have nothing against this perspective, I can't help but feel that it misses some important points.\n",
    "\n",
    "Risk tolerance is a hugely important topic in finance &mdash; almost everything can be thought of in terms of expected value and variance, and the [tradeoff](https://en.wikipedia.org/wiki/Sharpe_ratio) between the two is often the primary factor in decision making. Furthermore, it is completely rational for two people to make completely different [decisions](https://en.wikipedia.org/wiki/Kelly_criterion), and hold completely different [investment portfolios](https://en.wikipedia.org/wiki/Modern_portfolio_theory), purely on the basis of their respective risk tolerances &mdash; stocks are generally optimal for a young person, as they have superior expected value, and still present [almost no risk](https://www.businessinsider.com/chance-lose-money-investing-long-term-stock-market-2017-7) of losing money in the long run; conversely, someone who is very close to retirement may justifiably have almost zero tolerance for short-term drawdown, and yet can do much better than money under the mattress, even with a very safe investment like bonds.\n",
    "\n",
    "The key difference with charitable giving is that the stakeholder relationship is completely inverted <code>&mdash; we are meant to optimize for the collective well-being of every creature on earth, rather than exactly one human &mdash; that's kind of the whole point!</code> Investing is (sort of) a zero-sum game, and yet it matters a great deal if I lose my shirt in a trade against you &mdash; not because I am better or more worthy than you are, but because I simply won't be able to pay my bills (and it's not as if you're going to turn around and pay them on my behalf). Conversely, if I were hypothetically able to allocate my marginal dollars towards some intervention that had objectively the highest expected value for global welfare, I should absolutely do that (at least I think so). Even if it turns out that this intervention helped no one, assuming we still have reason to believe the EV was there, I truly don't think I should feel any worse about it.\n",
    "\n",
    "An individual investor only gets so many rolls of the dice, and personal bankruptcy is a real thing with real consequences. When it comes to global welfare, it helps that we're all stakeholders. We collectively roll all of our dice against the same stack of chips, and our global bankroll cannot go to zero. Whether the best realized outcomes were funded by your dollars or mine, we truly should not care or count, from a rational perspective. I realize of course that most of the global bankroll is spent on, let's say not quite Effective Altruist causes, and one could argue that if *everyone* took so much risk it actually *could* be suboptimal, but I do think the point holds. For one thing, there can only be so many projects that are high-risk, high-reward, crucially under-funded, and lacking a track-record, for so long; the majority of funding gaps will always be relatively established. Finally, as I mentioned at the outset, even the EA community is mostly not behind this line of thinking, so I think we can comfortably rule out the risk tolerance of the global donation pool being *too low* for the foreseeable future."
   ],
   "cell_type": "markdown",
   "metadata": {}
  }
 ]
}