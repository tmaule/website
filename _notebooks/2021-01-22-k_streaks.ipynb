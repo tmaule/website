{
 "metadata": {
  "language_info": {
   "codemirror_mode": {
    "name": "ipython",
    "version": 3
   },
   "file_extension": ".py",
   "mimetype": "text/x-python",
   "name": "python",
   "nbconvert_exporter": "python",
   "pygments_lexer": "ipython3",
   "version": "3.8.5-final"
  },
  "orig_nbformat": 2,
  "kernelspec": {
   "name": "python3",
   "display_name": "Python 3",
   "language": "python"
  }
 },
 "nbformat": 4,
 "nbformat_minor": 2,
 "cells": [
  {
   "cell_type": "code",
   "execution_count": null,
   "metadata": {},
   "outputs": [],
   "source": [
    "# Analysis of consecutive strikeouts throughout MLB history\n",
    ">\n",
    "\n",
    "- toc: false\n",
    "- badges: true\n",
    "- comments: false\n",
    "- categories: [sports, data science]\n",
    "- image: "
   ]
  },
  {
   "source": [
    "## Motivation\n",
    "On 09/17/2019, Yu Darvish recorded eight consecutive strikeouts for the Chicago Cubs. The game announcers hailed this as an incredible streak, and noted that the all-time MLB record is ten consecutive strikeouts by Tom Seaver in 1970. Given that one of the most significant changes in baseball over the past several decades is the increase in strikeout rate, I was curious to find out how much more likely such an occurrence is today versus, say, 50 years ago. In the end, I find that occurence of K streaks is growing exponentially, and Seaver's feat was roughly 1,164 times less likely than Darvish's."
   ],
   "cell_type": "markdown",
   "metadata": {}
  },
  {
   "cell_type": "code",
   "execution_count": 5,
   "metadata": {},
   "outputs": [
    {
     "output_type": "execute_result",
     "data": {
      "text/plain": [
       "     Year   SO    BF  K_rt\n",
       "0    2020 8.68 37.03  0.23\n",
       "1    2019 8.81 38.39  0.23\n",
       "2    2018 8.48 38.08  0.22\n",
       "3    2017 8.25 38.13  0.22\n",
       "4    2016 8.03 38.01  0.21\n",
       "..    ...  ...   ...   ...\n",
       "116  1904 3.72 36.04  0.10\n",
       "117  1903 3.58 36.64  0.10\n",
       "118  1902 2.98 36.96  0.08\n",
       "119  1901 3.14 37.62  0.08\n",
       "120  1900 2.37 37.54  0.06\n",
       "\n",
       "[121 rows x 4 columns]"
      ],
      "text/html": "<div>\n<style scoped>\n    .dataframe tbody tr th:only-of-type {\n        vertical-align: middle;\n    }\n\n    .dataframe tbody tr th {\n        vertical-align: top;\n    }\n\n    .dataframe thead th {\n        text-align: right;\n    }\n</style>\n<table border=\"1\" class=\"dataframe\">\n  <thead>\n    <tr style=\"text-align: right;\">\n      <th></th>\n      <th>Year</th>\n      <th>SO</th>\n      <th>BF</th>\n      <th>K_rt</th>\n    </tr>\n  </thead>\n  <tbody>\n    <tr>\n      <th>0</th>\n      <td>2020</td>\n      <td>8.68</td>\n      <td>37.03</td>\n      <td>0.23</td>\n    </tr>\n    <tr>\n      <th>1</th>\n      <td>2019</td>\n      <td>8.81</td>\n      <td>38.39</td>\n      <td>0.23</td>\n    </tr>\n    <tr>\n      <th>2</th>\n      <td>2018</td>\n      <td>8.48</td>\n      <td>38.08</td>\n      <td>0.22</td>\n    </tr>\n    <tr>\n      <th>3</th>\n      <td>2017</td>\n      <td>8.25</td>\n      <td>38.13</td>\n      <td>0.22</td>\n    </tr>\n    <tr>\n      <th>4</th>\n      <td>2016</td>\n      <td>8.03</td>\n      <td>38.01</td>\n      <td>0.21</td>\n    </tr>\n    <tr>\n      <th>...</th>\n      <td>...</td>\n      <td>...</td>\n      <td>...</td>\n      <td>...</td>\n    </tr>\n    <tr>\n      <th>116</th>\n      <td>1904</td>\n      <td>3.72</td>\n      <td>36.04</td>\n      <td>0.10</td>\n    </tr>\n    <tr>\n      <th>117</th>\n      <td>1903</td>\n      <td>3.58</td>\n      <td>36.64</td>\n      <td>0.10</td>\n    </tr>\n    <tr>\n      <th>118</th>\n      <td>1902</td>\n      <td>2.98</td>\n      <td>36.96</td>\n      <td>0.08</td>\n    </tr>\n    <tr>\n      <th>119</th>\n      <td>1901</td>\n      <td>3.14</td>\n      <td>37.62</td>\n      <td>0.08</td>\n    </tr>\n    <tr>\n      <th>120</th>\n      <td>1900</td>\n      <td>2.37</td>\n      <td>37.54</td>\n      <td>0.06</td>\n    </tr>\n  </tbody>\n</table>\n<p>121 rows × 4 columns</p>\n</div>"
     },
     "metadata": {},
     "execution_count": 5
    }
   ],
   "source": [
    "#collapse-hide\n",
    "import pandas as pd\n",
    "%matplotlib inline\n",
    "pd.options.display.float_format = '{:.2f}'.format\n",
    "\n",
    "# begin by populating a dataframe with MLB pitching statistics for every year on record\n",
    "cols_to_use = ['Year', 'SO', 'BF']\n",
    "raw_stats = 'C:/Users/tmaul/Documents/GitHub/website/assets/raw_data/mlb_league_stats_by_season.txt'\n",
    "k_data_by_season = pd.read_table(raw_stats, sep=',', usecols=cols_to_use)\n",
    "# filter out data prior to 1900 -- for roundness, plus the data from those years was fairly unstable\n",
    "k_data_by_season = k_data_by_season[k_data_by_season.Year>=1900]\n",
    "# calculate strikeout rate for the average pitcher\n",
    "k_data_by_season['K_rt'] = k_data_by_season.SO/k_data_by_season.BF\n",
    "k_data_by_season"
   ]
  }
 ]
}