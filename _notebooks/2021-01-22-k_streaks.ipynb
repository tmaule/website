{
 "metadata": {
  "language_info": {
   "codemirror_mode": {
    "name": "ipython",
    "version": 3
   },
   "file_extension": ".py",
   "mimetype": "text/x-python",
   "name": "python",
   "nbconvert_exporter": "python",
   "pygments_lexer": "ipython3",
   "version": "3.8.5-final"
  },
  "orig_nbformat": 2,
  "kernelspec": {
   "name": "python3",
   "display_name": "Python 3",
   "language": "python"
  }
 },
 "nbformat": 4,
 "nbformat_minor": 2,
 "cells": [
  {
   "cell_type": "code",
   "execution_count": null,
   "metadata": {},
   "outputs": [],
   "source": [
    "# Analysis of consecutive strikeouts throughout MLB history\n",
    ">\n",
    "\n",
    "- toc: false\n",
    "- badges: true\n",
    "- comments: false\n",
    "- categories: [sports, data science]\n",
    "- image: "
   ]
  },
  {
   "source": [
    "##Motivation\n",
    "On 09/17/2019, Yu Darvish recorded eight consecutive strikeouts for the Chicago Cubs. The game announcers hailed this as an incredible streak, and noted that the all-time MLB record is ten consecutive strikeouts by Tom Seaver in 1970. Given that one of the most significant changes in baseball over the past several decades is the increase in strikeout rate, I was curious to find out how much more likely such an occurrence is today versus, say, 50 years ago. In the end, I find that occurence of K streaks is growing exponentially, and Seaver's feat was roughly 1,164 times less likely than Darvish's."
   ],
   "cell_type": "markdown",
   "metadata": {}
  },
  {
   "cell_type": "code",
   "execution_count": null,
   "metadata": {},
   "outputs": [],
   "source": [
    "#collapse-hide\n",
    "import pandas as pd\n",
    "%matplotlib inline\n",
    "pd.options.display.float_format = '{:.2f}'.format\n",
    "\n",
    "# begin by populating a dataframe with MLB pitching statistics for every year on record\n",
    "cols_to_use = ['Year', 'SO', 'BF']\n",
    "raw_stats = 'https://github.com/tmaule/website/tree/master/assets/raw_data/mlb_league_stats_by_season.txt'\n",
    "k_data_by_season = pd.read_table(raw_stats, sep=',', usecols=cols_to_use)\n",
    "# filter out data prior to 1900 -- for roundness, plus the data from those years was fairly unstable\n",
    "k_data_by_season = k_data_by_season[k_data_by_season.Year>=1900]\n",
    "# calculate strikeout rate for the average pitcher\n",
    "k_data_by_season['K_rt'] = k_data_by_season.SO/k_data_by_season.BF\n",
    "k_data_by_season"
   ]
  }
 ]
}